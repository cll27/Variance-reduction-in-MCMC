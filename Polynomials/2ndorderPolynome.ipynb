{
 "cells": [
  {
   "cell_type": "markdown",
   "metadata": {},
   "source": [
    "## ## This code creates control variates based on 2nd order polynomials and compare the error in estimating E_f(h(X)) using them with a classical Monte Carlo method "
   ]
  },
  {
   "cell_type": "markdown",
   "metadata": {},
   "source": [
    "## Sources:"
   ]
  },
  {
   "cell_type": "markdown",
   "metadata": {},
   "source": [
    "## \"Zero Variance Differential Geometric Markov Chain Monte Carlo Algorithms\", Papamarkou and al, 2014"
   ]
  },
  {
   "cell_type": "code",
   "execution_count": 12,
   "metadata": {},
   "outputs": [],
   "source": [
    "# scientific computing library\n",
    "import numpy as np\n",
    "# visualization tools\n",
    "import matplotlib.pyplot as plt"
   ]
  },
  {
   "cell_type": "code",
   "execution_count": 14,
   "metadata": {},
   "outputs": [],
   "source": [
    "# m draws from the distribution we are interested in, m<=100\n",
    "#returns a 1d-array\n",
    "def draws(m, samples):#samples is a 1d-array\n",
    "    return(samples[:m])    \n",
    "    \n",
    "#function z; only works in the case of standard normal distribution; defined in Papamarkou's article\n",
    "def z(x):\n",
    "    return(x/2)    \n",
    "    \n",
    "#function w which takes as argument a 1D-array; returns a 2d-array; defined in Papamarkou's article\n",
    "def w(L):\n",
    "    return(np.array([z(L), L*z(L)-0.5]))  \n",
    "\n",
    "#\"true\" mean of f(X)\n",
    "def true_mean(f):\n",
    "    return(np.mean([np.mean(f(np.random.normal(0, 1, 100))) for i in range (1000)]))\n",
    "\n",
    "#error based on a classic Monte Carlo Method and using  m samples\n",
    "#returns a scalar; np.log10 needs or not to be added depending on the cases\n",
    "def ErrorFunction( true_mean, samples, f):\n",
    "    return((abs(np.sum(f(samples))/len(samples)-true_mean)))\n",
    "\n",
    "#coefficient estimator a_hat estimated using the first n samples; defined in Papamarkou's article\n",
    "    #returns a 2d-array of size dim parameter \\times 1\n",
    "def a_hat(n, f, samples):\n",
    "    samples_a_hat=draws(n, samples)\n",
    "    #Sample variance matrix of z\n",
    "    Var=(w(samples_a_hat)-np.mean(w(samples_a_hat), axis=1).reshape(2, 1).dot(np.ones((1,len(samples_a_hat))))).dot((w(samples_a_hat)-np.mean(w(samples_a_hat), axis=1).reshape(2, 1).dot(np.ones((1,len(samples_a_hat))))).T)/(n-1)\n",
    "    #Covariance matrix of the target function and z\n",
    "    Cov= np.sum(np.row_stack((f(samples_a_hat)-np.mean(f(samples_a_hat)),f(samples_a_hat)-np.mean(f(samples_a_hat))))*(w(samples_a_hat)-np.mean(w(samples_a_hat), axis=1).reshape(2, 1).dot(np.ones((1,len(samples_a_hat))))), axis=1)/(n-1)\n",
    "    return(-np.linalg.inv(Var).dot(Cov))\n",
    "\n",
    "#New function built with the control variate (2nd degree polynome P); defined in Papamarkou's article by g_tilde\n",
    "def newf(x, n, f, samples):\n",
    "    return(f(x)+a_hat(n, f, samples).T.dot(w(x))) "
   ]
  },
  {
   "cell_type": "markdown",
   "metadata": {},
   "source": [
    "## Plot the function h, the distribution against which we integrate and the control variate "
   ]
  },
  {
   "cell_type": "code",
   "execution_count": 19,
   "metadata": {},
   "outputs": [],
   "source": [
    "###PLots of the functions we want to integrate, the control variate and the distribution, in the case of a 1D \n",
    "#integration space\n",
    "def plot_functions(f):\n",
    "    # x-axis variable\n",
    "    x = np.linspace(-5, 5)\n",
    "    np.random.seed(123)\n",
    "    samples= np.random.normal(0, 1, 100)\n",
    "    # y-axis variable\n",
    "    y_f1 = f(x)\n",
    "    y_newf1=-a_hat(50, f, samples).T.dot(w(x))\n",
    "    y_distri=(1/(np.sqrt(2 * np.pi)) *np.exp( - x**2 / 2 ))\n",
    "    # visualize\n",
    "    axes = plt.gca()\n",
    "    axes.set_ylim([-1.5,1.5])\n",
    "    plt.plot(x, y_f1, label=\"f1\")\n",
    "    plt.plot(x, y_newf1, label=\"Control variate\")\n",
    "    plt.plot(x, y_distri, label=\"pdf\", linestyle=\"-.\")\n",
    "    plt.title(\"Plot for f(x)=x\")\n",
    "    plt.legend();\n",
    "    return(plt.show())"
   ]
  },
  {
   "cell_type": "markdown",
   "metadata": {},
   "source": [
    "## Functions to plot the (expectation of ) the Error or logError"
   ]
  },
  {
   "cell_type": "code",
   "execution_count": 21,
   "metadata": {},
   "outputs": [],
   "source": [
    "##Plots of the error against the number of Monte Carlo samples\n",
    "###    n=30 and n=50 (Number of samples used for assessing the value of a_hat)\n",
    "def visu(g, true_mean):\n",
    "    # x-axis variable\n",
    "    x1 = np.arange(start=1, stop=101, step=1) \n",
    "    x2 = np.arange(start=31, stop=101, step=1)\n",
    "    x3 = np.arange(start=51, stop=101, step=1)\n",
    "    # y-axis variable\n",
    "    y1= np.zeros(len(x1))\n",
    "    y2= np.zeros(len(x1))\n",
    "    y3= np.zeros(len(x1)) \n",
    "    np.random.seed(123)\n",
    "    samples= np.random.normal(0, 1, 100)\n",
    "    for i in range (0, len(x1)):\n",
    "        y1[i] = ErrorFunction(x1[i], true_mean, samples, g)\n",
    "        y2[i] = ErrorFunction(x1[i], true_mean, samples, f=lambda x:newf(x, 30, g, samples))\n",
    "        y3[i] = ErrorFunction(x1[i], true_mean, samples, f=lambda x:newf(x, 50, g, samples))        \n",
    "    # visualize\n",
    "    plt.plot(x1, y1, label= \"Classic Monte Carlo method\")\n",
    "    plt.plot(x2, y2[30:], label= \"n=\"+ str(30))\n",
    "    plt.plot(x3, y3[50:], label= \"n=\"+ str(50))    \n",
    "    plt.title(\"Plot for f=x^3\")\n",
    "    plt.xlabel(\"m=Number of Monte Carlo Samples\")\n",
    "    plt.ylabel(\"log|Error|\")\n",
    "    plt.legend();\n",
    "    return(plt.show())\n",
    "    \n",
    "#Plots of the expectation of the error against the number of Monte Carlo samples’  \n",
    "#   N number of replicates, n: number of samples used  for assessing the value of a_hat   #N >=n     \n",
    "def visu_expectation_error(g, true_mean, N):\n",
    "    x1 = np.arange(start=1, stop=101, step=10) \n",
    "    x2 = np.arange(start=31, stop=101, step=10)\n",
    "    x3 = np.arange(start=51, stop=101, step=10)  \n",
    "    # y-axis variable\n",
    "    y1=np.zeros((N, len(x1)))\n",
    "    y2=np.zeros((N, len(x2)))\n",
    "    y3=np.zeros((N, len(x3)))\n",
    "    for i in range(N):\n",
    "        samples= np.random.normal(0, 1, 100) \n",
    "        for j in range (0, len(x1)):\n",
    "            y1[i, j] = ErrorFunction( true_mean, samples[:x1[j]], g)   \n",
    "        for j in range (0, len(x2)):\n",
    "            y2[i, j] = ErrorFunction( true_mean, samples[30:x2[j]], f=lambda x:newf(x, 30, g, samples))\n",
    "        for j in range (0, len(x3)):\n",
    "            y3[i, j] = ErrorFunction( true_mean, samples[50:x3[j]], f=lambda x:newf(x, 50, g, samples))\n",
    "        # making sure that the length of the two variables match\n",
    "        # visualize\n",
    "    plt.plot(x1, 1/N*np.sum(y1, axis=0), label= \"Classic Monte Carlo method\", linestyle=\"-\",  marker=\"o\",linewidth=1) \n",
    "    plt.plot(x2, 1/N*np.sum(y2, axis=0), label= \"n=\"+ str(30), linestyle=\"-\",  marker=\"o\",linewidth=1) \n",
    "    plt.plot(x3, 1/N*np.sum(y3, axis=0), label= \"n=\"+ str(50), linestyle=\"-\",  marker=\"o\",linewidth=1) \n",
    "    plt.title(\"Plot for h(x)=x\")\n",
    "    plt.xlabel(\"m=Number of Monte Carlo Samples\")\n",
    "    plt.ylabel(\"E|Error|\")\n",
    "    plt.legend();\n",
    "    return(plt.show()) "
   ]
  },
  {
   "cell_type": "markdown",
   "metadata": {},
   "source": [
    "## functions we want to integrate with respect to the probability density f  "
   ]
  },
  {
   "cell_type": "code",
   "execution_count": 17,
   "metadata": {},
   "outputs": [],
   "source": [
    "def h1(x):\n",
    "    return(x)\n",
    "\n",
    "def h2(x):\n",
    "    return(x**2)\n",
    "\n",
    "def h3(x):\n",
    "    return(x**3)"
   ]
  },
  {
   "cell_type": "markdown",
   "metadata": {},
   "source": [
    "## Exemple when the integration space is 1D"
   ]
  },
  {
   "cell_type": "code",
   "execution_count": 22,
   "metadata": {},
   "outputs": [
    {
     "data": {
      "image/png": "[encoded data removed]",
      "text/plain": [
       "<Figure size 432x288 with 1 Axes>"
      ]
     },
     "metadata": {},
     "output_type": "display_data"
    },
    {
     "data": {
      "image/png": "[encoded data removed]",
      "text/plain": [
       "<Figure size 432x288 with 1 Axes>"
      ]
     },
     "metadata": {},
     "output_type": "display_data"
    }
   ],
   "source": [
    "#Choice of the mean of the multivariate normal distribution\n",
    "mean = np.array([0])#1d-array\n",
    "#Choice of the variance of the multivariate normal distribution\n",
    "cov = np.array([[1]])#2d-array\n",
    "\n",
    "plot_functions(h1)\n",
    "visu_expectation_error(h1, 0, 100)"
   ]
  }
 ],
 "metadata": {
  "kernelspec": {
   "display_name": "Python 3",
   "language": "python",
   "name": "python3"
  },
  "language_info": {
   "codemirror_mode": {
    "name": "ipython",
    "version": 3
   },
   "file_extension": ".py",
   "mimetype": "text/x-python",
   "name": "python",
   "nbconvert_exporter": "python",
   "pygments_lexer": "ipython3",
   "version": "3.6.5"
  }
 },
 "nbformat": 4,
 "nbformat_minor": 2
}
