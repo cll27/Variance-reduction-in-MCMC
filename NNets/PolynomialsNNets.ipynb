{
 "cells": [
  {
   "cell_type": "markdown",
   "metadata": {},
   "source": [
    "## This code creates control variates based on polynomials of order 1 or 2  using Pytorch"
   ]
  },
  {
   "cell_type": "markdown",
   "metadata": {},
   "source": [
    "sources:\n",
    "https://pytorch.org/tutorials/beginner/blitz/neural_networks_tutorial.html"
   ]
  },
  {
   "cell_type": "markdown",
   "metadata": {},
   "source": [
    "https://github.com/init27Lab/DL-Toolkit/blob/master/PyTorch/Linear%20Regression.ipynb"
   ]
  },
  {
   "cell_type": "code",
   "execution_count": 2,
   "metadata": {},
   "outputs": [],
   "source": [
    "import sys\n",
    "sys.path.append('/home/eym16/anaconda3/lib/python3.6/site-packages')\n",
    "\n",
    "import torch\n",
    "import torch.nn as nn \n",
    "import torchvision\n",
    "import torch.optim as optim\n",
    "import torchvision.transforms as transforms\n",
    "import numpy as np\n",
    "import bisect\n",
    "import pandas as pd\n",
    "from torch.autograd import Variable\n",
    "\n",
    "import numpy as np\n",
    "import matplotlib.pyplot as plt"
   ]
  },
  {
   "cell_type": "markdown",
   "metadata": {},
   "source": [
    "## Data generation"
   ]
  },
  {
   "cell_type": "code",
   "execution_count": 3,
   "metadata": {},
   "outputs": [],
   "source": [
    "#Choice of the mean of the multivariate normal distribution\n",
    "mean1 = np.array([0])\n",
    "#Choice of the variance of the multivariate normal distribution\n",
    "cov1 = np.array([[1]])\n",
    "np.random.seed(123)\n",
    "x_training= np.random.multivariate_normal(mean1, cov1, 50) #2d-array of type float64\n",
    "d = len(x_training[0])#dimension of the space on which we integrate\n",
    "x_training = np.asarray(x_training,dtype=np.float32).reshape(-1,d)#2d-array of type float32\n",
    "\n",
    "###Functions we want to integrate\n",
    "#h1 returns a [len(x) \\times 1] 2d-array such that h1(x)=\\sum_{i=1}^{n} x_i\n",
    "def h1(x):#x is a 2d-array\n",
    "    return(x.dot(np.ones((len(x[0]), 1))))\n",
    "\n",
    "#sphere function  returns a [len(x) x 1] 2d-array such; h2(x)=\\sum_{i=1}^{d} x_i^2 where d is the dimension of the integration space\n",
    "def h2(x):#x is a 2d-array\n",
    "    return (x**2).dot(np.ones((len(x[0]), 1)))\n",
    "\n",
    "#h3 returns a [len(x) x 1] 2d-array such that h3(x)=\\sum_{i=1}^{n} x_i^3\n",
    "def h3(x):#x is a 2d-array\n",
    "    return (x**3).dot(np.ones((len(x[0]), 1)))\n",
    "\n",
    "y_training = h3(x_training)#true value of y\n",
    "y_training= np.asarray(y_training,dtype=np.float32).reshape(-1,1)#2d-array of type float32"
   ]
  },
  {
   "cell_type": "markdown",
   "metadata": {},
   "source": [
    "## Definition of the model"
   ]
  },
  {
   "cell_type": "code",
   "execution_count": 4,
   "metadata": {},
   "outputs": [],
   "source": [
    "#Linear model with one linear hidden layer\n",
    "class LinearPolynomialModel(nn.Module):\n",
    "    def __init__(self,bias):\n",
    "        super(LinearPolynomialModel, self).__init__()\n",
    "        self.linear = nn.Linear(d, 1, bias=bias)       \n",
    "        \n",
    "    def forward(self, x):\n",
    "        out = self.linear(x)\n",
    "        return out\n",
    "#Linear a quadratic with one linear hidden layer and one one bilinear hidden layer\n",
    "class QuadraticPolynomialModel(nn.Module):\n",
    "    def __init__(self,bias):\n",
    "        super(QuadraticPolynomialModel, self).__init__()\n",
    "        self.linear = nn.Linear(d, 1, bias=False)  \n",
    "        self.quadratic = nn.Bilinear(d, d, 1, bias=bias)       \n",
    "        \n",
    "    def forward(self, x):\n",
    "        out = self.quadratic(x,x)+self.linear(x)\n",
    "        return out\n",
    "\n",
    "#Crreation if an instance of the class    \n",
    "#model = LinearPolynomialModel(bias=False)#model without bias\n",
    "model = QuadraticPolynomialModel(bias=False)#model without bias"
   ]
  },
  {
   "cell_type": "markdown",
   "metadata": {},
   "source": [
    "## Loss function and optimizer"
   ]
  },
  {
   "cell_type": "code",
   "execution_count": 5,
   "metadata": {},
   "outputs": [],
   "source": [
    "## returns the gradient of a multivariate normal distribution; returns a 2d-array of size (d, len(x))\n",
    "#x is a 1d-tensor of size \n",
    "def NablaLogPdf(x):\n",
    "    #convert cov into a 2d-tensor\n",
    "    cov = torch.from_numpy(np.asarray(cov1,dtype=np.float32).reshape(d,d))\n",
    "    #convert mean into a 2d-tensor\n",
    "    mean = torch.from_numpy(np.asarray(mean1,dtype=np.float32).reshape(d,1))\n",
    "    #convert the 1d input tensor into a 2d-tensor\n",
    "    x = x.view(d, -1)\n",
    "    return (- torch.mm(torch.inverse(cov), torch.add(x, - mean)))#return -x in dim 1\n",
    "\n",
    "\n",
    "#only works in the case on 1st order polynomials; for a \"y=c^{t}x\" model\n",
    "#x is a 1d-tensor; parameters is a tensor of size ([1, d]) that is the weights\n",
    "#def stein_operator(x, params):\n",
    "#    temp = NablaLogPdf(x)\n",
    "#    return torch.mm(params[0], temp) #params[0] contains the weights\n",
    "\n",
    "#only works in the case on 2nd order polynomials; for a \"y(x)=c^{t}x + x^{t}Bx\" model\n",
    "#x is a 1d-tensor; parameters is a tensor of size ([1, d]) that is the weights\n",
    "def stein_operator(x, params):#uses the second order operator\n",
    "    temp = NablaLogPdf(x)\n",
    "    #convert the 1d input tensor into a 2d-tensor\n",
    "    x = x.view(d, -1)\n",
    "    B= params[1].view(d, d)#value of B\n",
    "    Bt = torch.t(B)#values of B^T\n",
    "    BaddBt = torch.add(B, Bt)#value of B + B^T\n",
    "    nabla= params[0].view(d, -1) + torch.mm(BaddBt, x)#gradient of y(x)\n",
    "    laplacian = torch.trace(BaddBt)#laplacian of y(x)\n",
    "    return ( torch.mm(torch.t(nabla), temp) + laplacian)\n",
    "\n",
    "#loss function\n",
    "class VarianceLoss(torch.nn.Module):\n",
    "\n",
    "    def __init__(self):\n",
    "        super(VarianceLoss,self).__init__()   \n",
    "\n",
    "    def forward(self,x,y, parameters):\n",
    "        n = x.size()[0]\n",
    "        out = 0.\n",
    "        for i in range(n):\n",
    "            for j in range(n):\n",
    "                out += (y[i]-stein_operator(x[i], parameters)-y[j]+stein_operator(x[j], parameters))**2\n",
    "        out *= 1./(n*(n-1))     \n",
    "        return out\n",
    "    \n",
    "criterion = VarianceLoss()\n",
    "\n",
    "l_rate = 0.01\n",
    "optimiser = torch.optim.SGD(model.parameters(), lr = l_rate) #Stochastic Gradient Descent"
   ]
  },
  {
   "cell_type": "markdown",
   "metadata": {},
   "source": [
    "## Training"
   ]
  },
  {
   "cell_type": "code",
   "execution_count": 6,
   "metadata": {
    "scrolled": true
   },
   "outputs": [
    {
     "name": "stdout",
     "output_type": "stream",
     "text": [
      "[Parameter containing:\n",
      "tensor([[-0.5765]]), Parameter containing:\n",
      "tensor([[[ 0.8010]]])]\n",
      "initial state\n",
      "OrderedDict([('linear.weight', tensor([[-0.5765]])), ('quadratic.weight', tensor([[[ 0.8010]]]))])\n",
      "epoch 10, loss 24.62741470336914\n",
      "[Parameter containing:\n",
      "tensor([[-1.9977]]), Parameter containing:\n",
      "tensor([[[ 0.1551]]])]\n",
      "epoch 20, loss 17.787715911865234\n",
      "[Parameter containing:\n",
      "tensor([[-2.7772]]), Parameter containing:\n",
      "tensor([[[ 0.1656]]])]\n",
      "epoch 30, loss 15.702868461608887\n",
      "[Parameter containing:\n",
      "tensor([[-3.2076]]), Parameter containing:\n",
      "tensor([[[ 0.1716]]])]\n",
      "epoch 40, loss 15.067358016967773\n",
      "[Parameter containing:\n",
      "tensor([[-3.4453]]), Parameter containing:\n",
      "tensor([[[ 0.1749]]])]\n",
      "epoch 50, loss 14.873637199401855\n",
      "[Parameter containing:\n",
      "tensor([[-3.5764]]), Parameter containing:\n",
      "tensor([[[ 0.1767]]])]\n"
     ]
    },
    {
     "data": {
      "image/png": "[encoded data removed]",
      "text/plain": [
       "<Figure size 432x288 with 1 Axes>"
      ]
     },
     "metadata": {},
     "output_type": "display_data"
    },
    {
     "name": "stdout",
     "output_type": "stream",
     "text": [
      "final state\n",
      "OrderedDict([('linear.weight', tensor([[-3.5764]])), ('quadratic.weight', tensor([[[ 0.1767]]]))])\n"
     ]
    }
   ],
   "source": [
    "\n",
    "print(list(model.parameters()))\n",
    "\n",
    "epochs = 50\n",
    "\n",
    "print('initial state')\n",
    "print(model.state_dict())\n",
    "\n",
    "for epoch in range(epochs):\n",
    "    epoch +=1 #increase the number of epochs by 1 every time\n",
    "    inputs = Variable(torch.from_numpy(x_training))#converts the input data from numpy to a tensor\n",
    "    target = Variable(torch.from_numpy(y_training))#converts the true y from numpy to a tensor\n",
    "    \n",
    "    #clear grads\n",
    "    optimiser.zero_grad()\n",
    "    #forward to get predicted values\n",
    "    outputs = model.forward(inputs)#values predicted by the model\n",
    "    params = list(model.parameters())#learnable parameters of the model\n",
    "    loss = criterion.forward(inputs, target, params)#model.parameters() \n",
    "    loss.backward()# back props\n",
    "    optimiser.step()# update the parameters\n",
    "    \n",
    "    if epoch%10 == 0:\n",
    "        print('epoch {}, loss {}'.format(epoch,loss.item()))\n",
    "        print(list(model.parameters()))\n",
    "    \n",
    "\n",
    "def Predict(inputs, model):\n",
    "    ## evaluates Lu\n",
    "    n = inputs.size()[0]\n",
    "    predicted = np.zeros(n)\n",
    "    for i in range(n):  \n",
    "        predicted[i] = stein_operator(inputs[i], list(model.parameters()))\n",
    "    return(predicted)\n",
    "\n",
    "predicted = Predict(inputs, model)\n",
    "\n",
    "#model.forward(Variable(torch.from_numpy(x_training))).data.numpy()\n",
    "\n",
    "plt.plot(x_training, y_training, 'go', label = 'from data', alpha = .5)\n",
    "plt.plot(x_training, predicted,'go', color=\"red\", label = 'prediction', alpha = 0.5)\n",
    "plt.legend()\n",
    "plt.show()\n",
    "print('final state')\n",
    "print(model.state_dict())"
   ]
  }
 ],
 "metadata": {
  "kernelspec": {
   "display_name": "Python 3",
   "language": "python",
   "name": "python3"
  },
  "language_info": {
   "codemirror_mode": {
    "name": "ipython",
    "version": 3
   },
   "file_extension": ".py",
   "mimetype": "text/x-python",
   "name": "python",
   "nbconvert_exporter": "python",
   "pygments_lexer": "ipython3",
   "version": "3.6.5"
  }
 },
 "nbformat": 4,
 "nbformat_minor": 2
}
